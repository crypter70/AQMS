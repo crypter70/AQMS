{
 "cells": [
  {
   "cell_type": "markdown",
   "id": "f8a2e15c-15e2-4a52-ae05-5072d8d795a7",
   "metadata": {},
   "source": [
    "# Preprocessing"
   ]
  },
  {
   "cell_type": "markdown",
   "id": "9f835f4a-dd8c-4646-b83f-e914643a632a",
   "metadata": {},
   "source": [
    "## Import Libraries"
   ]
  },
  {
   "cell_type": "code",
   "execution_count": 17,
   "id": "7669580f-d4b8-4ae1-8bc6-74b9317bc15b",
   "metadata": {},
   "outputs": [],
   "source": [
    "import pandas as pd\n",
    "import numpy as np\n",
    "import matplotlib.pyplot as plt\n",
    "import seaborn as sns\n",
    "import json\n",
    "\n",
    "import joblib\n",
    "\n",
    "import sys\n",
    "sys.path.append('../src')  \n",
    "import utils as util"
   ]
  },
  {
   "cell_type": "markdown",
   "id": "ff5aec4c-83e0-4856-86ca-6dbef362364a",
   "metadata": {},
   "source": [
    "## Load Configuration File"
   ]
  },
  {
   "cell_type": "code",
   "execution_count": 18,
   "id": "fefa05cb-c57f-4b2e-8d92-c170a5aa3c85",
   "metadata": {},
   "outputs": [],
   "source": [
    "config = util.load_config()"
   ]
  },
  {
   "cell_type": "markdown",
   "id": "2d6fcbb7-c42a-42a3-89ae-948ce4a82ca3",
   "metadata": {},
   "source": [
    "## Load Raw Dataset"
   ]
  },
  {
   "cell_type": "code",
   "execution_count": 19,
   "id": "5bde7cce-0e3d-4176-9153-ad8d8a7f8f8a",
   "metadata": {},
   "outputs": [],
   "source": [
    "def read_raw_data(config: dict, data_dir: str) -> pd.DataFrame:\n",
    "    df = pd.read_csv(data_dir, encoding='utf-8')\n",
    "    df = df[[config['data_source']['data_column']]]\n",
    "    \n",
    "    data_to_remove = config['data_source']['data_to_remove']\n",
    "    raw_data = df.drop(data_to_remove)\n",
    "\n",
    "    return raw_data"
   ]
  },
  {
   "cell_type": "code",
   "execution_count": 20,
   "id": "5bb57761-6de7-45da-a08b-36f4a01db90c",
   "metadata": {},
   "outputs": [],
   "source": [
    "raw_dataset_path = '../' + config['data_source']['directory'] + config['data_source']['file_name']  \n",
    "\n",
    "raw_data = read_raw_data(config, raw_dataset_path)"
   ]
  },
  {
   "cell_type": "code",
   "execution_count": 21,
   "id": "52e6681d-0155-4af5-808f-e162f7755c64",
   "metadata": {},
   "outputs": [
    {
     "data": {
      "text/html": [
       "<div>\n",
       "<style scoped>\n",
       "    .dataframe tbody tr th:only-of-type {\n",
       "        vertical-align: middle;\n",
       "    }\n",
       "\n",
       "    .dataframe tbody tr th {\n",
       "        vertical-align: top;\n",
       "    }\n",
       "\n",
       "    .dataframe thead th {\n",
       "        text-align: right;\n",
       "    }\n",
       "</style>\n",
       "<table border=\"1\" class=\"dataframe\">\n",
       "  <thead>\n",
       "    <tr style=\"text-align: right;\">\n",
       "      <th></th>\n",
       "      <th>MESSAGE</th>\n",
       "    </tr>\n",
       "  </thead>\n",
       "  <tbody>\n",
       "    <tr>\n",
       "      <th>0</th>\n",
       "      <td>{\"ID\":\"2\",\"sensor\":{\"ZH03B\":{\"PM1.0\":34,\"PM2.5...</td>\n",
       "    </tr>\n",
       "    <tr>\n",
       "      <th>1</th>\n",
       "      <td>{\"ID\":\"1\",\"sensor\":{\"ZH03B\":{\"PM1.0\":32,\"PM2.5...</td>\n",
       "    </tr>\n",
       "    <tr>\n",
       "      <th>2</th>\n",
       "      <td>{\"ID\":\"2\",\"sensor\":{\"ZH03B\":{\"PM1.0\":34,\"PM2.5...</td>\n",
       "    </tr>\n",
       "    <tr>\n",
       "      <th>3</th>\n",
       "      <td>{\"ID\":\"1\",\"sensor\":{\"ZH03B\":{\"PM1.0\":32,\"PM2.5...</td>\n",
       "    </tr>\n",
       "    <tr>\n",
       "      <th>4</th>\n",
       "      <td>{\"ID\":\"2\",\"sensor\":{\"ZH03B\":{\"PM1.0\":34,\"PM2.5...</td>\n",
       "    </tr>\n",
       "  </tbody>\n",
       "</table>\n",
       "</div>"
      ],
      "text/plain": [
       "                                             MESSAGE\n",
       "0  {\"ID\":\"2\",\"sensor\":{\"ZH03B\":{\"PM1.0\":34,\"PM2.5...\n",
       "1  {\"ID\":\"1\",\"sensor\":{\"ZH03B\":{\"PM1.0\":32,\"PM2.5...\n",
       "2  {\"ID\":\"2\",\"sensor\":{\"ZH03B\":{\"PM1.0\":34,\"PM2.5...\n",
       "3  {\"ID\":\"1\",\"sensor\":{\"ZH03B\":{\"PM1.0\":32,\"PM2.5...\n",
       "4  {\"ID\":\"2\",\"sensor\":{\"ZH03B\":{\"PM1.0\":34,\"PM2.5..."
      ]
     },
     "execution_count": 21,
     "metadata": {},
     "output_type": "execute_result"
    }
   ],
   "source": [
    "raw_data.head()"
   ]
  },
  {
   "cell_type": "code",
   "execution_count": 22,
   "id": "ba85f6c5-5c38-4b52-96e4-d2598cef66fc",
   "metadata": {},
   "outputs": [
    {
     "name": "stdout",
     "output_type": "stream",
     "text": [
      "<class 'pandas.core.frame.DataFrame'>\n",
      "Index: 25930 entries, 0 to 25938\n",
      "Data columns (total 1 columns):\n",
      " #   Column   Non-Null Count  Dtype \n",
      "---  ------   --------------  ----- \n",
      " 0   MESSAGE  25930 non-null  object\n",
      "dtypes: object(1)\n",
      "memory usage: 405.2+ KB\n"
     ]
    }
   ],
   "source": [
    "raw_data.info()"
   ]
  },
  {
   "cell_type": "code",
   "execution_count": 23,
   "id": "90465138-1dbc-4462-af8b-660c765ea63e",
   "metadata": {},
   "outputs": [
    {
     "data": {
      "text/plain": [
       "MESSAGE    0\n",
       "dtype: int64"
      ]
     },
     "execution_count": 23,
     "metadata": {},
     "output_type": "execute_result"
    }
   ],
   "source": [
    "raw_data.isnull().sum()"
   ]
  },
  {
   "cell_type": "code",
   "execution_count": 24,
   "id": "0a489bda-f7ba-4470-bb33-ac26716d6821",
   "metadata": {},
   "outputs": [
    {
     "data": {
      "text/plain": [
       "'{\"ID\":\"2\",\"sensor\":{\"ZH03B\":{\"PM1.0\":34,\"PM2.5\":42,\"PM10.0\":49},\"BME280\":{\"Temperature\":37.93999863,\"Pressure\":908.9143677,\"Altitude\":886.4772339,\"Humidity\":32.13378906},\"DHT22\":{\"Temperature\":25.69999886,\"Humidity\":56,\"HeatIndex\":25.78777313,\"DewPoint\":16.28425217,\"ComfortRatio\":100,\"ComfortStatus\":0},\"MQ7\":{\"PPM\":7.910358906}},\"dateTime\":{\"date\":\"2024-07-02\",\"time\":\"13:13:00\"}}'"
      ]
     },
     "execution_count": 24,
     "metadata": {},
     "output_type": "execute_result"
    }
   ],
   "source": [
    "raw_data[config['data_source']['data_column']][0]"
   ]
  },
  {
   "cell_type": "markdown",
   "id": "e7a1f100-aa81-4379-aa80-f38c822b5678",
   "metadata": {},
   "source": [
    "## Preprocessing"
   ]
  },
  {
   "cell_type": "markdown",
   "id": "3833d3ac-cde2-4824-a78d-784d0d39ea77",
   "metadata": {},
   "source": [
    "### Extracting Features"
   ]
  },
  {
   "cell_type": "code",
   "execution_count": 25,
   "id": "c1677967-324a-4165-a366-b81a1b928ebe",
   "metadata": {},
   "outputs": [],
   "source": [
    "def extract_features(json_str, config: dict):\n",
    "    data_dict = json.loads(json_str)\n",
    "    \n",
    "    id_sensor = data_dict[config['data_mapping']['id_sensor']]\n",
    "    datetime = data_dict[config['data_mapping']['dateTime']][config['data_mapping']['date']] + ' ' + data_dict[config['data_mapping']['dateTime']][config['data_mapping']['time']]\n",
    "    \n",
    "    pm1 = data_dict[config['data_mapping']['sensor']][config['data_mapping']['ZH03B']][config['data_mapping']['pm1']]\n",
    "    pm25 = data_dict[config['data_mapping']['sensor']][config['data_mapping']['ZH03B']][config['data_mapping']['pm25']]\n",
    "    pm10 = data_dict[config['data_mapping']['sensor']][config['data_mapping']['ZH03B']][config['data_mapping']['pm10']]\n",
    "    co = data_dict[config['data_mapping']['sensor']][config['data_mapping']['MQ7']][config['data_mapping']['co']]\n",
    "    temperature = data_dict[config['data_mapping']['sensor']][config['data_mapping']['DHT22']][config['data_mapping']['temperature']]\n",
    "    humidity = data_dict[config['data_mapping']['sensor']][config['data_mapping']['DHT22']][config['data_mapping']['humidity']]\n",
    "    pressure = data_dict[config['data_mapping']['sensor']][config['data_mapping']['BME280']][config['data_mapping']['pressure']]\n",
    "    \n",
    "    return id_sensor, datetime, pm1, pm25, pm10, co, temperature, humidity, pressure"
   ]
  },
  {
   "cell_type": "code",
   "execution_count": 26,
   "id": "0f1ce57a-25a0-4f93-ae30-f138b97d9568",
   "metadata": {},
   "outputs": [
    {
     "data": {
      "text/html": [
       "<div>\n",
       "<style scoped>\n",
       "    .dataframe tbody tr th:only-of-type {\n",
       "        vertical-align: middle;\n",
       "    }\n",
       "\n",
       "    .dataframe tbody tr th {\n",
       "        vertical-align: top;\n",
       "    }\n",
       "\n",
       "    .dataframe thead th {\n",
       "        text-align: right;\n",
       "    }\n",
       "</style>\n",
       "<table border=\"1\" class=\"dataframe\">\n",
       "  <thead>\n",
       "    <tr style=\"text-align: right;\">\n",
       "      <th></th>\n",
       "      <th>MESSAGE</th>\n",
       "      <th>id_sensor</th>\n",
       "      <th>datetime</th>\n",
       "      <th>pm1</th>\n",
       "      <th>pm25</th>\n",
       "      <th>pm10</th>\n",
       "      <th>co</th>\n",
       "      <th>temperature</th>\n",
       "      <th>humidity</th>\n",
       "      <th>pressure</th>\n",
       "    </tr>\n",
       "  </thead>\n",
       "  <tbody>\n",
       "    <tr>\n",
       "      <th>0</th>\n",
       "      <td>{\"ID\":\"2\",\"sensor\":{\"ZH03B\":{\"PM1.0\":34,\"PM2.5...</td>\n",
       "      <td>2</td>\n",
       "      <td>2024-07-02 13:13:00</td>\n",
       "      <td>34</td>\n",
       "      <td>42</td>\n",
       "      <td>49</td>\n",
       "      <td>7.910359</td>\n",
       "      <td>25.699999</td>\n",
       "      <td>56.000000</td>\n",
       "      <td>908.914368</td>\n",
       "    </tr>\n",
       "    <tr>\n",
       "      <th>1</th>\n",
       "      <td>{\"ID\":\"1\",\"sensor\":{\"ZH03B\":{\"PM1.0\":32,\"PM2.5...</td>\n",
       "      <td>1</td>\n",
       "      <td>2024-07-02 13:13:04</td>\n",
       "      <td>32</td>\n",
       "      <td>40</td>\n",
       "      <td>45</td>\n",
       "      <td>9.578706</td>\n",
       "      <td>25.900000</td>\n",
       "      <td>58.299999</td>\n",
       "      <td>924.873779</td>\n",
       "    </tr>\n",
       "    <tr>\n",
       "      <th>2</th>\n",
       "      <td>{\"ID\":\"2\",\"sensor\":{\"ZH03B\":{\"PM1.0\":34,\"PM2.5...</td>\n",
       "      <td>2</td>\n",
       "      <td>2024-07-02 13:13:30</td>\n",
       "      <td>34</td>\n",
       "      <td>42</td>\n",
       "      <td>48</td>\n",
       "      <td>7.933297</td>\n",
       "      <td>25.699999</td>\n",
       "      <td>56.299999</td>\n",
       "      <td>908.919983</td>\n",
       "    </tr>\n",
       "    <tr>\n",
       "      <th>3</th>\n",
       "      <td>{\"ID\":\"1\",\"sensor\":{\"ZH03B\":{\"PM1.0\":32,\"PM2.5...</td>\n",
       "      <td>1</td>\n",
       "      <td>2024-07-02 13:13:34</td>\n",
       "      <td>32</td>\n",
       "      <td>40</td>\n",
       "      <td>45</td>\n",
       "      <td>9.578706</td>\n",
       "      <td>25.900000</td>\n",
       "      <td>58.299999</td>\n",
       "      <td>924.897522</td>\n",
       "    </tr>\n",
       "    <tr>\n",
       "      <th>4</th>\n",
       "      <td>{\"ID\":\"2\",\"sensor\":{\"ZH03B\":{\"PM1.0\":34,\"PM2.5...</td>\n",
       "      <td>2</td>\n",
       "      <td>2024-07-02 13:14:00</td>\n",
       "      <td>34</td>\n",
       "      <td>42</td>\n",
       "      <td>47</td>\n",
       "      <td>7.956267</td>\n",
       "      <td>25.600000</td>\n",
       "      <td>56.700001</td>\n",
       "      <td>908.917175</td>\n",
       "    </tr>\n",
       "  </tbody>\n",
       "</table>\n",
       "</div>"
      ],
      "text/plain": [
       "                                             MESSAGE id_sensor  \\\n",
       "0  {\"ID\":\"2\",\"sensor\":{\"ZH03B\":{\"PM1.0\":34,\"PM2.5...         2   \n",
       "1  {\"ID\":\"1\",\"sensor\":{\"ZH03B\":{\"PM1.0\":32,\"PM2.5...         1   \n",
       "2  {\"ID\":\"2\",\"sensor\":{\"ZH03B\":{\"PM1.0\":34,\"PM2.5...         2   \n",
       "3  {\"ID\":\"1\",\"sensor\":{\"ZH03B\":{\"PM1.0\":32,\"PM2.5...         1   \n",
       "4  {\"ID\":\"2\",\"sensor\":{\"ZH03B\":{\"PM1.0\":34,\"PM2.5...         2   \n",
       "\n",
       "              datetime  pm1  pm25  pm10        co  temperature   humidity  \\\n",
       "0  2024-07-02 13:13:00   34    42    49  7.910359    25.699999  56.000000   \n",
       "1  2024-07-02 13:13:04   32    40    45  9.578706    25.900000  58.299999   \n",
       "2  2024-07-02 13:13:30   34    42    48  7.933297    25.699999  56.299999   \n",
       "3  2024-07-02 13:13:34   32    40    45  9.578706    25.900000  58.299999   \n",
       "4  2024-07-02 13:14:00   34    42    47  7.956267    25.600000  56.700001   \n",
       "\n",
       "     pressure  \n",
       "0  908.914368  \n",
       "1  924.873779  \n",
       "2  908.919983  \n",
       "3  924.897522  \n",
       "4  908.917175  "
      ]
     },
     "execution_count": 26,
     "metadata": {},
     "output_type": "execute_result"
    }
   ],
   "source": [
    "raw_data[config['data_source']['columns']] = raw_data[config['data_source']['data_column']].apply(lambda x: extract_features(x, config)).apply(pd.Series)\n",
    "\n",
    "raw_data.head()"
   ]
  },
  {
   "cell_type": "markdown",
   "id": "dd136059-4073-4dd6-9252-74334910cb0a",
   "metadata": {},
   "source": [
    "### Cleaning Features"
   ]
  },
  {
   "cell_type": "code",
   "execution_count": 27,
   "id": "6415dec1-e7de-4f12-b8c4-ef473d99c47f",
   "metadata": {},
   "outputs": [],
   "source": [
    "def clean_features(config: dict, data: pd.DataFrame):\n",
    "    \n",
    "    # drop kolom \"MESSAGE\", ubah tipe data datetime menjadi datetime, ubah tipe data id_sensor menjadi int\n",
    "    data = data.drop(columns=config['data_source']['data_column'])\n",
    "    data[config['data_source']['datetime_feature']] = pd.to_datetime(data[config['data_source']['datetime_feature']])\n",
    "    data[config['data_source']['id_sensor']] = data[config['data_source']['id_sensor']].astype(int)\n",
    "\n",
    "    return data"
   ]
  },
  {
   "cell_type": "code",
   "execution_count": 28,
   "id": "42eba891-a382-4819-a0f4-1801caf9d495",
   "metadata": {},
   "outputs": [
    {
     "data": {
      "text/html": [
       "<div>\n",
       "<style scoped>\n",
       "    .dataframe tbody tr th:only-of-type {\n",
       "        vertical-align: middle;\n",
       "    }\n",
       "\n",
       "    .dataframe tbody tr th {\n",
       "        vertical-align: top;\n",
       "    }\n",
       "\n",
       "    .dataframe thead th {\n",
       "        text-align: right;\n",
       "    }\n",
       "</style>\n",
       "<table border=\"1\" class=\"dataframe\">\n",
       "  <thead>\n",
       "    <tr style=\"text-align: right;\">\n",
       "      <th></th>\n",
       "      <th>id_sensor</th>\n",
       "      <th>datetime</th>\n",
       "      <th>pm1</th>\n",
       "      <th>pm25</th>\n",
       "      <th>pm10</th>\n",
       "      <th>co</th>\n",
       "      <th>temperature</th>\n",
       "      <th>humidity</th>\n",
       "      <th>pressure</th>\n",
       "    </tr>\n",
       "  </thead>\n",
       "  <tbody>\n",
       "    <tr>\n",
       "      <th>0</th>\n",
       "      <td>2</td>\n",
       "      <td>2024-07-02 13:13:00</td>\n",
       "      <td>34</td>\n",
       "      <td>42</td>\n",
       "      <td>49</td>\n",
       "      <td>7.910359</td>\n",
       "      <td>25.699999</td>\n",
       "      <td>56.000000</td>\n",
       "      <td>908.914368</td>\n",
       "    </tr>\n",
       "    <tr>\n",
       "      <th>1</th>\n",
       "      <td>1</td>\n",
       "      <td>2024-07-02 13:13:04</td>\n",
       "      <td>32</td>\n",
       "      <td>40</td>\n",
       "      <td>45</td>\n",
       "      <td>9.578706</td>\n",
       "      <td>25.900000</td>\n",
       "      <td>58.299999</td>\n",
       "      <td>924.873779</td>\n",
       "    </tr>\n",
       "    <tr>\n",
       "      <th>2</th>\n",
       "      <td>2</td>\n",
       "      <td>2024-07-02 13:13:30</td>\n",
       "      <td>34</td>\n",
       "      <td>42</td>\n",
       "      <td>48</td>\n",
       "      <td>7.933297</td>\n",
       "      <td>25.699999</td>\n",
       "      <td>56.299999</td>\n",
       "      <td>908.919983</td>\n",
       "    </tr>\n",
       "    <tr>\n",
       "      <th>3</th>\n",
       "      <td>1</td>\n",
       "      <td>2024-07-02 13:13:34</td>\n",
       "      <td>32</td>\n",
       "      <td>40</td>\n",
       "      <td>45</td>\n",
       "      <td>9.578706</td>\n",
       "      <td>25.900000</td>\n",
       "      <td>58.299999</td>\n",
       "      <td>924.897522</td>\n",
       "    </tr>\n",
       "    <tr>\n",
       "      <th>4</th>\n",
       "      <td>2</td>\n",
       "      <td>2024-07-02 13:14:00</td>\n",
       "      <td>34</td>\n",
       "      <td>42</td>\n",
       "      <td>47</td>\n",
       "      <td>7.956267</td>\n",
       "      <td>25.600000</td>\n",
       "      <td>56.700001</td>\n",
       "      <td>908.917175</td>\n",
       "    </tr>\n",
       "  </tbody>\n",
       "</table>\n",
       "</div>"
      ],
      "text/plain": [
       "   id_sensor            datetime  pm1  pm25  pm10        co  temperature  \\\n",
       "0          2 2024-07-02 13:13:00   34    42    49  7.910359    25.699999   \n",
       "1          1 2024-07-02 13:13:04   32    40    45  9.578706    25.900000   \n",
       "2          2 2024-07-02 13:13:30   34    42    48  7.933297    25.699999   \n",
       "3          1 2024-07-02 13:13:34   32    40    45  9.578706    25.900000   \n",
       "4          2 2024-07-02 13:14:00   34    42    47  7.956267    25.600000   \n",
       "\n",
       "    humidity    pressure  \n",
       "0  56.000000  908.914368  \n",
       "1  58.299999  924.873779  \n",
       "2  56.299999  908.919983  \n",
       "3  58.299999  924.897522  \n",
       "4  56.700001  908.917175  "
      ]
     },
     "execution_count": 28,
     "metadata": {},
     "output_type": "execute_result"
    }
   ],
   "source": [
    "raw_data = clean_features(config, raw_data)\n",
    "\n",
    "raw_data.head()"
   ]
  },
  {
   "cell_type": "code",
   "execution_count": 29,
   "id": "600c0d1c-4fa6-4038-a6e8-bc6bac0686ac",
   "metadata": {},
   "outputs": [
    {
     "name": "stdout",
     "output_type": "stream",
     "text": [
      "<class 'pandas.core.frame.DataFrame'>\n",
      "Index: 25930 entries, 0 to 25938\n",
      "Data columns (total 9 columns):\n",
      " #   Column       Non-Null Count  Dtype         \n",
      "---  ------       --------------  -----         \n",
      " 0   id_sensor    25930 non-null  int64         \n",
      " 1   datetime     25930 non-null  datetime64[ns]\n",
      " 2   pm1          25930 non-null  int64         \n",
      " 3   pm25         25930 non-null  int64         \n",
      " 4   pm10         25930 non-null  int64         \n",
      " 5   co           25930 non-null  float64       \n",
      " 6   temperature  25930 non-null  float64       \n",
      " 7   humidity     25930 non-null  float64       \n",
      " 8   pressure     25930 non-null  float64       \n",
      "dtypes: datetime64[ns](1), float64(4), int64(4)\n",
      "memory usage: 3.0 MB\n"
     ]
    }
   ],
   "source": [
    "raw_data.info()"
   ]
  },
  {
   "cell_type": "code",
   "execution_count": 30,
   "id": "3873e3bd-2d96-4d8d-91b4-5ed6c71adb2a",
   "metadata": {},
   "outputs": [],
   "source": [
    "data = {\n",
    "    'sensor_data_1': raw_data[raw_data[config['data_source']['id_sensor']] == config['data_source']['sensor'][0]].reset_index(drop=True),\n",
    "    'sensor_data_2': raw_data[raw_data[config['data_source']['id_sensor']] == config['data_source']['sensor'][1]].reset_index(drop=True),\n",
    "    'sensor_data_3': raw_data[raw_data[config['data_source']['id_sensor']] == config['data_source']['sensor'][2]].reset_index(drop=True)\n",
    "}"
   ]
  },
  {
   "cell_type": "code",
   "execution_count": 31,
   "id": "fafdc14f-8ba0-4d35-9f22-7f3453142164",
   "metadata": {},
   "outputs": [
    {
     "data": {
      "text/html": [
       "<div>\n",
       "<style scoped>\n",
       "    .dataframe tbody tr th:only-of-type {\n",
       "        vertical-align: middle;\n",
       "    }\n",
       "\n",
       "    .dataframe tbody tr th {\n",
       "        vertical-align: top;\n",
       "    }\n",
       "\n",
       "    .dataframe thead th {\n",
       "        text-align: right;\n",
       "    }\n",
       "</style>\n",
       "<table border=\"1\" class=\"dataframe\">\n",
       "  <thead>\n",
       "    <tr style=\"text-align: right;\">\n",
       "      <th></th>\n",
       "      <th>id_sensor</th>\n",
       "      <th>datetime</th>\n",
       "      <th>pm1</th>\n",
       "      <th>pm25</th>\n",
       "      <th>pm10</th>\n",
       "      <th>co</th>\n",
       "      <th>temperature</th>\n",
       "      <th>humidity</th>\n",
       "      <th>pressure</th>\n",
       "    </tr>\n",
       "  </thead>\n",
       "  <tbody>\n",
       "    <tr>\n",
       "      <th>0</th>\n",
       "      <td>1</td>\n",
       "      <td>2024-07-02 13:13:04</td>\n",
       "      <td>32</td>\n",
       "      <td>40</td>\n",
       "      <td>45</td>\n",
       "      <td>9.578706</td>\n",
       "      <td>25.9</td>\n",
       "      <td>58.299999</td>\n",
       "      <td>924.873779</td>\n",
       "    </tr>\n",
       "    <tr>\n",
       "      <th>1</th>\n",
       "      <td>1</td>\n",
       "      <td>2024-07-02 13:13:34</td>\n",
       "      <td>32</td>\n",
       "      <td>40</td>\n",
       "      <td>45</td>\n",
       "      <td>9.578706</td>\n",
       "      <td>25.9</td>\n",
       "      <td>58.299999</td>\n",
       "      <td>924.897522</td>\n",
       "    </tr>\n",
       "    <tr>\n",
       "      <th>2</th>\n",
       "      <td>1</td>\n",
       "      <td>2024-07-02 13:14:04</td>\n",
       "      <td>34</td>\n",
       "      <td>42</td>\n",
       "      <td>47</td>\n",
       "      <td>9.578706</td>\n",
       "      <td>25.9</td>\n",
       "      <td>58.299999</td>\n",
       "      <td>924.843933</td>\n",
       "    </tr>\n",
       "    <tr>\n",
       "      <th>3</th>\n",
       "      <td>1</td>\n",
       "      <td>2024-07-02 13:14:34</td>\n",
       "      <td>33</td>\n",
       "      <td>41</td>\n",
       "      <td>46</td>\n",
       "      <td>9.578706</td>\n",
       "      <td>25.9</td>\n",
       "      <td>58.299999</td>\n",
       "      <td>924.890137</td>\n",
       "    </tr>\n",
       "    <tr>\n",
       "      <th>4</th>\n",
       "      <td>1</td>\n",
       "      <td>2024-07-02 13:15:04</td>\n",
       "      <td>32</td>\n",
       "      <td>40</td>\n",
       "      <td>45</td>\n",
       "      <td>9.578706</td>\n",
       "      <td>25.9</td>\n",
       "      <td>58.400002</td>\n",
       "      <td>924.885010</td>\n",
       "    </tr>\n",
       "  </tbody>\n",
       "</table>\n",
       "</div>"
      ],
      "text/plain": [
       "   id_sensor            datetime  pm1  pm25  pm10        co  temperature  \\\n",
       "0          1 2024-07-02 13:13:04   32    40    45  9.578706         25.9   \n",
       "1          1 2024-07-02 13:13:34   32    40    45  9.578706         25.9   \n",
       "2          1 2024-07-02 13:14:04   34    42    47  9.578706         25.9   \n",
       "3          1 2024-07-02 13:14:34   33    41    46  9.578706         25.9   \n",
       "4          1 2024-07-02 13:15:04   32    40    45  9.578706         25.9   \n",
       "\n",
       "    humidity    pressure  \n",
       "0  58.299999  924.873779  \n",
       "1  58.299999  924.897522  \n",
       "2  58.299999  924.843933  \n",
       "3  58.299999  924.890137  \n",
       "4  58.400002  924.885010  "
      ]
     },
     "execution_count": 31,
     "metadata": {},
     "output_type": "execute_result"
    }
   ],
   "source": [
    "data['sensor_data_1'].head()"
   ]
  },
  {
   "cell_type": "markdown",
   "id": "fa933b74-1047-42f8-823b-50346edc2345",
   "metadata": {},
   "source": [
    "### Resampling Data with An Hour"
   ]
  },
  {
   "cell_type": "code",
   "execution_count": 32,
   "id": "cb595b91-8157-4d17-8177-527524fda6a3",
   "metadata": {},
   "outputs": [
    {
     "data": {
      "text/html": [
       "<div>\n",
       "<style scoped>\n",
       "    .dataframe tbody tr th:only-of-type {\n",
       "        vertical-align: middle;\n",
       "    }\n",
       "\n",
       "    .dataframe tbody tr th {\n",
       "        vertical-align: top;\n",
       "    }\n",
       "\n",
       "    .dataframe thead th {\n",
       "        text-align: right;\n",
       "    }\n",
       "</style>\n",
       "<table border=\"1\" class=\"dataframe\">\n",
       "  <thead>\n",
       "    <tr style=\"text-align: right;\">\n",
       "      <th></th>\n",
       "      <th>id_sensor</th>\n",
       "      <th>pm1</th>\n",
       "      <th>pm25</th>\n",
       "      <th>pm10</th>\n",
       "      <th>co</th>\n",
       "      <th>temperature</th>\n",
       "      <th>humidity</th>\n",
       "      <th>pressure</th>\n",
       "    </tr>\n",
       "    <tr>\n",
       "      <th>datetime</th>\n",
       "      <th></th>\n",
       "      <th></th>\n",
       "      <th></th>\n",
       "      <th></th>\n",
       "      <th></th>\n",
       "      <th></th>\n",
       "      <th></th>\n",
       "      <th></th>\n",
       "    </tr>\n",
       "  </thead>\n",
       "  <tbody>\n",
       "    <tr>\n",
       "      <th>2024-07-02 13:00:00</th>\n",
       "      <td>1.0</td>\n",
       "      <td>29.212766</td>\n",
       "      <td>36.478723</td>\n",
       "      <td>40.840426</td>\n",
       "      <td>9.531837</td>\n",
       "      <td>25.879787</td>\n",
       "      <td>58.532979</td>\n",
       "      <td>924.742080</td>\n",
       "    </tr>\n",
       "    <tr>\n",
       "      <th>2024-07-02 14:00:00</th>\n",
       "      <td>1.0</td>\n",
       "      <td>22.733333</td>\n",
       "      <td>28.408333</td>\n",
       "      <td>31.775000</td>\n",
       "      <td>9.783101</td>\n",
       "      <td>25.271666</td>\n",
       "      <td>60.930833</td>\n",
       "      <td>924.435543</td>\n",
       "    </tr>\n",
       "    <tr>\n",
       "      <th>2024-07-02 15:00:00</th>\n",
       "      <td>1.0</td>\n",
       "      <td>14.808333</td>\n",
       "      <td>18.825000</td>\n",
       "      <td>20.825000</td>\n",
       "      <td>9.860055</td>\n",
       "      <td>25.400000</td>\n",
       "      <td>60.045000</td>\n",
       "      <td>924.397990</td>\n",
       "    </tr>\n",
       "    <tr>\n",
       "      <th>2024-07-02 16:00:00</th>\n",
       "      <td>1.0</td>\n",
       "      <td>18.166667</td>\n",
       "      <td>22.775000</td>\n",
       "      <td>25.341667</td>\n",
       "      <td>10.148229</td>\n",
       "      <td>25.318333</td>\n",
       "      <td>59.451667</td>\n",
       "      <td>924.676247</td>\n",
       "    </tr>\n",
       "    <tr>\n",
       "      <th>2024-07-02 17:00:00</th>\n",
       "      <td>1.0</td>\n",
       "      <td>27.208333</td>\n",
       "      <td>33.941667</td>\n",
       "      <td>37.891667</td>\n",
       "      <td>10.477759</td>\n",
       "      <td>24.514166</td>\n",
       "      <td>60.936667</td>\n",
       "      <td>925.327504</td>\n",
       "    </tr>\n",
       "  </tbody>\n",
       "</table>\n",
       "</div>"
      ],
      "text/plain": [
       "                     id_sensor        pm1       pm25       pm10         co  \\\n",
       "datetime                                                                     \n",
       "2024-07-02 13:00:00        1.0  29.212766  36.478723  40.840426   9.531837   \n",
       "2024-07-02 14:00:00        1.0  22.733333  28.408333  31.775000   9.783101   \n",
       "2024-07-02 15:00:00        1.0  14.808333  18.825000  20.825000   9.860055   \n",
       "2024-07-02 16:00:00        1.0  18.166667  22.775000  25.341667  10.148229   \n",
       "2024-07-02 17:00:00        1.0  27.208333  33.941667  37.891667  10.477759   \n",
       "\n",
       "                     temperature   humidity    pressure  \n",
       "datetime                                                 \n",
       "2024-07-02 13:00:00    25.879787  58.532979  924.742080  \n",
       "2024-07-02 14:00:00    25.271666  60.930833  924.435543  \n",
       "2024-07-02 15:00:00    25.400000  60.045000  924.397990  \n",
       "2024-07-02 16:00:00    25.318333  59.451667  924.676247  \n",
       "2024-07-02 17:00:00    24.514166  60.936667  925.327504  "
      ]
     },
     "execution_count": 32,
     "metadata": {},
     "output_type": "execute_result"
    }
   ],
   "source": [
    "data['sensor_data_1'] = data['sensor_data_1'].resample('h', on='datetime').mean()[config['data_source']['num_features']]\n",
    "data['sensor_data_2'] = data['sensor_data_2'].resample('h', on='datetime').mean()[config['data_source']['num_features']]\n",
    "data['sensor_data_3'] = data['sensor_data_3'].resample('h', on='datetime').mean()[config['data_source']['num_features']]\n",
    "\n",
    "data['sensor_data_1'].head()"
   ]
  },
  {
   "cell_type": "markdown",
   "id": "d3dad751-8b5f-4f32-826a-88c46b7df868",
   "metadata": {},
   "source": [
    "## Dump Data"
   ]
  },
  {
   "cell_type": "code",
   "execution_count": 16,
   "id": "f7793ec6-36e0-4c8e-beeb-083e12b8937a",
   "metadata": {},
   "outputs": [],
   "source": [
    "data_path_pkl = '../' + config['train_test_data']['directory'] + config['train_test_data']['file_name_pkl']  \n",
    "data_path_csv = '../' + config['train_test_data']['directory'] + config['train_test_data']['file_name_csv']  \n",
    "\n",
    "util.dump_data_pickle(data, data_path_pkl)\n",
    "util.dump_data_csv(raw_data, data_path_csv)"
   ]
  }
 ],
 "metadata": {
  "kernelspec": {
   "display_name": "time-series",
   "language": "python",
   "name": "time-series"
  },
  "language_info": {
   "codemirror_mode": {
    "name": "ipython",
    "version": 3
   },
   "file_extension": ".py",
   "mimetype": "text/x-python",
   "name": "python",
   "nbconvert_exporter": "python",
   "pygments_lexer": "ipython3",
   "version": "3.12.3"
  }
 },
 "nbformat": 4,
 "nbformat_minor": 5
}
