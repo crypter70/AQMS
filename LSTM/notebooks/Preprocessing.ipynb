{
 "cells": [
  {
   "cell_type": "markdown",
   "id": "f8a2e15c-15e2-4a52-ae05-5072d8d795a7",
   "metadata": {},
   "source": [
    "# Preprocessing"
   ]
  },
  {
   "cell_type": "code",
   "execution_count": 19,
   "id": "7669580f-d4b8-4ae1-8bc6-74b9317bc15b",
   "metadata": {},
   "outputs": [],
   "source": [
    "import pandas as pd\n",
    "import numpy as np\n",
    "import matplotlib.pyplot as plt\n",
    "import seaborn as sns\n",
    "import json\n",
    "\n",
    "import sys\n",
    "sys.path.append('../src')  \n",
    "import utils as util"
   ]
  },
  {
   "cell_type": "code",
   "execution_count": 31,
   "id": "fefa05cb-c57f-4b2e-8d92-c170a5aa3c85",
   "metadata": {},
   "outputs": [],
   "source": [
    "config = util.load_config()"
   ]
  },
  {
   "cell_type": "code",
   "execution_count": 21,
   "id": "5bde7cce-0e3d-4176-9153-ad8d8a7f8f8a",
   "metadata": {},
   "outputs": [],
   "source": [
    "def read_raw_data(config: dict, data_dir: str) -> pd.DataFrame:\n",
    "    df = pd.read_csv(data_dir, encoding='utf-8')\n",
    "    df = df[[config['data_source']['data_column']]]\n",
    "    \n",
    "    data_to_remove = config['data_source']['data_to_remove']\n",
    "    raw_data = df.drop(data_to_remove)\n",
    "\n",
    "    return raw_data"
   ]
  },
  {
   "cell_type": "code",
   "execution_count": 22,
   "id": "5bb57761-6de7-45da-a08b-36f4a01db90c",
   "metadata": {},
   "outputs": [],
   "source": [
    "raw_dataset_dir = '../' + config['data_source']['directory'] + config['data_source']['file_name']  \n",
    "\n",
    "raw_data = read_raw_data(config, raw_dataset_dir)"
   ]
  },
  {
   "cell_type": "code",
   "execution_count": 23,
   "id": "52e6681d-0155-4af5-808f-e162f7755c64",
   "metadata": {},
   "outputs": [
    {
     "data": {
      "text/html": [
       "<div>\n",
       "<style scoped>\n",
       "    .dataframe tbody tr th:only-of-type {\n",
       "        vertical-align: middle;\n",
       "    }\n",
       "\n",
       "    .dataframe tbody tr th {\n",
       "        vertical-align: top;\n",
       "    }\n",
       "\n",
       "    .dataframe thead th {\n",
       "        text-align: right;\n",
       "    }\n",
       "</style>\n",
       "<table border=\"1\" class=\"dataframe\">\n",
       "  <thead>\n",
       "    <tr style=\"text-align: right;\">\n",
       "      <th></th>\n",
       "      <th>MESSAGE</th>\n",
       "    </tr>\n",
       "  </thead>\n",
       "  <tbody>\n",
       "    <tr>\n",
       "      <th>0</th>\n",
       "      <td>{\"ID\":\"2\",\"sensor\":{\"ZH03B\":{\"PM1.0\":34,\"PM2.5...</td>\n",
       "    </tr>\n",
       "    <tr>\n",
       "      <th>1</th>\n",
       "      <td>{\"ID\":\"1\",\"sensor\":{\"ZH03B\":{\"PM1.0\":32,\"PM2.5...</td>\n",
       "    </tr>\n",
       "    <tr>\n",
       "      <th>2</th>\n",
       "      <td>{\"ID\":\"2\",\"sensor\":{\"ZH03B\":{\"PM1.0\":34,\"PM2.5...</td>\n",
       "    </tr>\n",
       "    <tr>\n",
       "      <th>3</th>\n",
       "      <td>{\"ID\":\"1\",\"sensor\":{\"ZH03B\":{\"PM1.0\":32,\"PM2.5...</td>\n",
       "    </tr>\n",
       "    <tr>\n",
       "      <th>4</th>\n",
       "      <td>{\"ID\":\"2\",\"sensor\":{\"ZH03B\":{\"PM1.0\":34,\"PM2.5...</td>\n",
       "    </tr>\n",
       "  </tbody>\n",
       "</table>\n",
       "</div>"
      ],
      "text/plain": [
       "                                             MESSAGE\n",
       "0  {\"ID\":\"2\",\"sensor\":{\"ZH03B\":{\"PM1.0\":34,\"PM2.5...\n",
       "1  {\"ID\":\"1\",\"sensor\":{\"ZH03B\":{\"PM1.0\":32,\"PM2.5...\n",
       "2  {\"ID\":\"2\",\"sensor\":{\"ZH03B\":{\"PM1.0\":34,\"PM2.5...\n",
       "3  {\"ID\":\"1\",\"sensor\":{\"ZH03B\":{\"PM1.0\":32,\"PM2.5...\n",
       "4  {\"ID\":\"2\",\"sensor\":{\"ZH03B\":{\"PM1.0\":34,\"PM2.5..."
      ]
     },
     "execution_count": 23,
     "metadata": {},
     "output_type": "execute_result"
    }
   ],
   "source": [
    "raw_data.head()"
   ]
  },
  {
   "cell_type": "code",
   "execution_count": 24,
   "id": "ba85f6c5-5c38-4b52-96e4-d2598cef66fc",
   "metadata": {},
   "outputs": [
    {
     "name": "stdout",
     "output_type": "stream",
     "text": [
      "<class 'pandas.core.frame.DataFrame'>\n",
      "Index: 25933 entries, 0 to 25938\n",
      "Data columns (total 1 columns):\n",
      " #   Column   Non-Null Count  Dtype \n",
      "---  ------   --------------  ----- \n",
      " 0   MESSAGE  25933 non-null  object\n",
      "dtypes: object(1)\n",
      "memory usage: 405.2+ KB\n"
     ]
    }
   ],
   "source": [
    "raw_data.info()"
   ]
  },
  {
   "cell_type": "code",
   "execution_count": 25,
   "id": "90465138-1dbc-4462-af8b-660c765ea63e",
   "metadata": {},
   "outputs": [
    {
     "data": {
      "text/plain": [
       "MESSAGE    0\n",
       "dtype: int64"
      ]
     },
     "execution_count": 25,
     "metadata": {},
     "output_type": "execute_result"
    }
   ],
   "source": [
    "raw_data.isnull().sum()"
   ]
  },
  {
   "cell_type": "code",
   "execution_count": 26,
   "id": "0a489bda-f7ba-4470-bb33-ac26716d6821",
   "metadata": {},
   "outputs": [
    {
     "data": {
      "text/plain": [
       "'{\"ID\":\"2\",\"sensor\":{\"ZH03B\":{\"PM1.0\":34,\"PM2.5\":42,\"PM10.0\":49},\"BME280\":{\"Temperature\":37.93999863,\"Pressure\":908.9143677,\"Altitude\":886.4772339,\"Humidity\":32.13378906},\"DHT22\":{\"Temperature\":25.69999886,\"Humidity\":56,\"HeatIndex\":25.78777313,\"DewPoint\":16.28425217,\"ComfortRatio\":100,\"ComfortStatus\":0},\"MQ7\":{\"PPM\":7.910358906}},\"dateTime\":{\"date\":\"2024-07-02\",\"time\":\"13:13:00\"}}'"
      ]
     },
     "execution_count": 26,
     "metadata": {},
     "output_type": "execute_result"
    }
   ],
   "source": [
    "raw_data[config['data_source']['data_column']][0]"
   ]
  },
  {
   "cell_type": "code",
   "execution_count": 27,
   "id": "c1677967-324a-4165-a366-b81a1b928ebe",
   "metadata": {},
   "outputs": [],
   "source": [
    "def extract_data(json_str, config: dict):\n",
    "    data_dict = json.loads(json_str)\n",
    "    \n",
    "    id_sensor = data_dict[config['data_mapping']['id_sensor']]\n",
    "    date = data_dict[config['data_mapping']['dateTime']][config['data_mapping']['date']]\n",
    "    time = data_dict[config['data_mapping']['dateTime']][config['data_mapping']['time']]\n",
    "    \n",
    "    pm1 = data_dict[config['data_mapping']['sensor']][config['data_mapping']['ZH03B']][config['data_mapping']['pm1']]\n",
    "    pm25 = data_dict[config['data_mapping']['sensor']][config['data_mapping']['ZH03B']][config['data_mapping']['pm25']]\n",
    "    pm10 = data_dict[config['data_mapping']['sensor']][config['data_mapping']['ZH03B']][config['data_mapping']['pm10']]\n",
    "    co = data_dict[config['data_mapping']['sensor']][config['data_mapping']['MQ7']][config['data_mapping']['co']]\n",
    "    temperature = data_dict[config['data_mapping']['sensor']][config['data_mapping']['DHT22']][config['data_mapping']['temperature']]\n",
    "    humidity = data_dict[config['data_mapping']['sensor']][config['data_mapping']['DHT22']][config['data_mapping']['humidity']]\n",
    "    pressure = data_dict[config['data_mapping']['sensor']][config['data_mapping']['BME280']][config['data_mapping']['pressure']]\n",
    "    \n",
    "    return id_sensor, date, time, pm1, pm25, pm10, co, temperature, humidity, pressure"
   ]
  },
  {
   "cell_type": "code",
   "execution_count": 28,
   "id": "0f1ce57a-25a0-4f93-ae30-f138b97d9568",
   "metadata": {},
   "outputs": [
    {
     "data": {
      "text/html": [
       "<div>\n",
       "<style scoped>\n",
       "    .dataframe tbody tr th:only-of-type {\n",
       "        vertical-align: middle;\n",
       "    }\n",
       "\n",
       "    .dataframe tbody tr th {\n",
       "        vertical-align: top;\n",
       "    }\n",
       "\n",
       "    .dataframe thead th {\n",
       "        text-align: right;\n",
       "    }\n",
       "</style>\n",
       "<table border=\"1\" class=\"dataframe\">\n",
       "  <thead>\n",
       "    <tr style=\"text-align: right;\">\n",
       "      <th></th>\n",
       "      <th>id_sensor</th>\n",
       "      <th>date</th>\n",
       "      <th>time</th>\n",
       "      <th>pm1</th>\n",
       "      <th>pm25</th>\n",
       "      <th>pm10</th>\n",
       "      <th>co</th>\n",
       "      <th>temperature</th>\n",
       "      <th>humidity</th>\n",
       "      <th>pressure</th>\n",
       "    </tr>\n",
       "  </thead>\n",
       "  <tbody>\n",
       "    <tr>\n",
       "      <th>0</th>\n",
       "      <td>2</td>\n",
       "      <td>2024-07-02</td>\n",
       "      <td>13:13:00</td>\n",
       "      <td>34</td>\n",
       "      <td>42</td>\n",
       "      <td>49</td>\n",
       "      <td>7.910359</td>\n",
       "      <td>25.699999</td>\n",
       "      <td>56.000000</td>\n",
       "      <td>908.914368</td>\n",
       "    </tr>\n",
       "    <tr>\n",
       "      <th>1</th>\n",
       "      <td>1</td>\n",
       "      <td>2024-07-02</td>\n",
       "      <td>13:13:04</td>\n",
       "      <td>32</td>\n",
       "      <td>40</td>\n",
       "      <td>45</td>\n",
       "      <td>9.578706</td>\n",
       "      <td>25.900000</td>\n",
       "      <td>58.299999</td>\n",
       "      <td>924.873779</td>\n",
       "    </tr>\n",
       "    <tr>\n",
       "      <th>2</th>\n",
       "      <td>2</td>\n",
       "      <td>2024-07-02</td>\n",
       "      <td>13:13:30</td>\n",
       "      <td>34</td>\n",
       "      <td>42</td>\n",
       "      <td>48</td>\n",
       "      <td>7.933297</td>\n",
       "      <td>25.699999</td>\n",
       "      <td>56.299999</td>\n",
       "      <td>908.919983</td>\n",
       "    </tr>\n",
       "    <tr>\n",
       "      <th>3</th>\n",
       "      <td>1</td>\n",
       "      <td>2024-07-02</td>\n",
       "      <td>13:13:34</td>\n",
       "      <td>32</td>\n",
       "      <td>40</td>\n",
       "      <td>45</td>\n",
       "      <td>9.578706</td>\n",
       "      <td>25.900000</td>\n",
       "      <td>58.299999</td>\n",
       "      <td>924.897522</td>\n",
       "    </tr>\n",
       "    <tr>\n",
       "      <th>4</th>\n",
       "      <td>2</td>\n",
       "      <td>2024-07-02</td>\n",
       "      <td>13:14:00</td>\n",
       "      <td>34</td>\n",
       "      <td>42</td>\n",
       "      <td>47</td>\n",
       "      <td>7.956267</td>\n",
       "      <td>25.600000</td>\n",
       "      <td>56.700001</td>\n",
       "      <td>908.917175</td>\n",
       "    </tr>\n",
       "  </tbody>\n",
       "</table>\n",
       "</div>"
      ],
      "text/plain": [
       "  id_sensor        date      time  pm1  pm25  pm10        co  temperature  \\\n",
       "0         2  2024-07-02  13:13:00   34    42    49  7.910359    25.699999   \n",
       "1         1  2024-07-02  13:13:04   32    40    45  9.578706    25.900000   \n",
       "2         2  2024-07-02  13:13:30   34    42    48  7.933297    25.699999   \n",
       "3         1  2024-07-02  13:13:34   32    40    45  9.578706    25.900000   \n",
       "4         2  2024-07-02  13:14:00   34    42    47  7.956267    25.600000   \n",
       "\n",
       "    humidity    pressure  \n",
       "0  56.000000  908.914368  \n",
       "1  58.299999  924.873779  \n",
       "2  56.299999  908.919983  \n",
       "3  58.299999  924.897522  \n",
       "4  56.700001  908.917175  "
      ]
     },
     "execution_count": 28,
     "metadata": {},
     "output_type": "execute_result"
    }
   ],
   "source": [
    "raw_data[config['data_source']['columns']] = raw_data[config['data_source']['data_column']].apply(lambda x: extract_data(x, config)).apply(pd.Series)\n",
    "raw_data = raw_data.drop(columns=config['data_source']['data_column'])\n",
    "\n",
    "raw_data.head()"
   ]
  },
  {
   "cell_type": "code",
   "execution_count": 29,
   "id": "cb595b91-8157-4d17-8177-527524fda6a3",
   "metadata": {},
   "outputs": [
    {
     "name": "stdout",
     "output_type": "stream",
     "text": [
      "<class 'pandas.core.frame.DataFrame'>\n",
      "Index: 25933 entries, 0 to 25938\n",
      "Data columns (total 10 columns):\n",
      " #   Column       Non-Null Count  Dtype  \n",
      "---  ------       --------------  -----  \n",
      " 0   id_sensor    25933 non-null  object \n",
      " 1   date         25933 non-null  object \n",
      " 2   time         25933 non-null  object \n",
      " 3   pm1          25933 non-null  int64  \n",
      " 4   pm25         25933 non-null  int64  \n",
      " 5   pm10         25933 non-null  int64  \n",
      " 6   co           25933 non-null  float64\n",
      " 7   temperature  25933 non-null  float64\n",
      " 8   humidity     25933 non-null  float64\n",
      " 9   pressure     25933 non-null  float64\n",
      "dtypes: float64(4), int64(3), object(3)\n",
      "memory usage: 3.2+ MB\n"
     ]
    }
   ],
   "source": [
    "raw_data.info()"
   ]
  },
  {
   "cell_type": "code",
   "execution_count": 34,
   "id": "0b77b62e-cd25-484f-8a88-e92e65939e34",
   "metadata": {},
   "outputs": [],
   "source": [
    "def dump_dataset(config: dict, data: pd.DataFrame, data_dir: str):\n",
    "    data.to_csv(data_dir, index=False)"
   ]
  },
  {
   "cell_type": "code",
   "execution_count": 36,
   "id": "c71d7f1f-73b1-4e7d-8cee-157431d56ca2",
   "metadata": {},
   "outputs": [],
   "source": [
    "data_dir = '../' + config['train_test_data']['directory'] + config['train_test_data']['file_name']  \n",
    "\n",
    "dump_dataset(config, raw_data, data_dir)"
   ]
  },
  {
   "cell_type": "code",
   "execution_count": null,
   "id": "60695b42-07e5-4477-9f14-6f55f27976cf",
   "metadata": {},
   "outputs": [],
   "source": []
  }
 ],
 "metadata": {
  "kernelspec": {
   "display_name": "time-series",
   "language": "python",
   "name": "time-series"
  },
  "language_info": {
   "codemirror_mode": {
    "name": "ipython",
    "version": 3
   },
   "file_extension": ".py",
   "mimetype": "text/x-python",
   "name": "python",
   "nbconvert_exporter": "python",
   "pygments_lexer": "ipython3",
   "version": "3.12.3"
  }
 },
 "nbformat": 4,
 "nbformat_minor": 5
}
