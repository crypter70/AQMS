{
 "cells": [
  {
   "cell_type": "markdown",
   "id": "d38aad5a-1378-4270-81db-9f245523b75e",
   "metadata": {},
   "source": [
    "# LSTM Modeling"
   ]
  },
  {
   "cell_type": "markdown",
   "id": "aeeba635-e13b-4e30-a199-b738dab8f251",
   "metadata": {},
   "source": [
    "## Import Libraries"
   ]
  },
  {
   "cell_type": "code",
   "execution_count": 1,
   "id": "9ecdecf0-926f-485e-aa7a-9cfd1751f81d",
   "metadata": {},
   "outputs": [
    {
     "name": "stdout",
     "output_type": "stream",
     "text": [
      "Intel MKL WARNING: Support of Intel(R) Streaming SIMD Extensions 4.2 (Intel(R) SSE4.2) enabled only processors has been deprecated. Intel oneAPI Math Kernel Library 2025.0 will require Intel(R) Advanced Vector Extensions (Intel(R) AVX) instructions.\n",
      "Intel MKL WARNING: Support of Intel(R) Streaming SIMD Extensions 4.2 (Intel(R) SSE4.2) enabled only processors has been deprecated. Intel oneAPI Math Kernel Library 2025.0 will require Intel(R) Advanced Vector Extensions (Intel(R) AVX) instructions.\n",
      "tensor([1.], device='mps:0')\n",
      "utils OK\n"
     ]
    }
   ],
   "source": [
    "import pandas as pd\n",
    "import numpy as np\n",
    "import matplotlib.pyplot as plt\n",
    "import seaborn as sns\n",
    "\n",
    "import torch\n",
    "import torch.nn as nn\n",
    "import torch.optim as optim\n",
    "from torch.utils.data import DataLoader, TensorDataset\n",
    "\n",
    "from sklearn.preprocessing import StandardScaler, MinMaxScaler\n",
    "from sklearn.metrics import mean_absolute_error, mean_squared_error\n",
    "\n",
    "import statsmodels.api as sm\n",
    "import statsmodels.formula.api as smf\n",
    "from statsmodels.tsa.seasonal import seasonal_decompose, STL\n",
    "from statsmodels.graphics.tsaplots import plot_acf\n",
    "from statsmodels.tsa.stattools import adfuller\n",
    "\n",
    "import os\n",
    "import keras\n",
    "\n",
    "os.environ[\"KERAS_BACKEND\"] = \"torch\"\n",
    "\n",
    "if torch.backends.mps.is_available():\n",
    "    device = torch.device(\"mps\")\n",
    "    x = torch.ones(1, device=device)\n",
    "    print (x)\n",
    "else:\n",
    "    print (\"MPS device not found.\")\n",
    "    \n",
    "torch.mps.set_per_process_memory_fraction(0.0)\n",
    "os.environ['PYTORCH_MPS_HIGH_WATERMARK_RATIO'] = '0.0'\n",
    "\n",
    "import sys\n",
    "sys.path.append('../src')  \n",
    "import utils as util"
   ]
  },
  {
   "cell_type": "markdown",
   "id": "dd0ec159-ccbe-4b17-86f8-99af68dd9a51",
   "metadata": {},
   "source": [
    "## Load Configuration File"
   ]
  },
  {
   "cell_type": "code",
   "execution_count": 2,
   "id": "8ac46bd4-c429-440b-9a54-676f713ffc7e",
   "metadata": {},
   "outputs": [],
   "source": [
    "config = util.load_config()"
   ]
  },
  {
   "cell_type": "markdown",
   "id": "66362869-35ea-4523-91e5-4814e5f8c761",
   "metadata": {},
   "source": [
    "## Read Data"
   ]
  },
  {
   "cell_type": "code",
   "execution_count": 3,
   "id": "50fa4a5b-21f9-4f0f-87cd-56b1d10d6855",
   "metadata": {},
   "outputs": [],
   "source": [
    "# hyperparameter\n",
    "ls_bs = [2, 4, 6]\n",
    "ls_epoch = [10, 25, 50]\n",
    "ls_lr = [0.001, 0.0001, 0.00001]\n",
    "\n",
    "batch_size=4\n",
    "num_epochs=30\n",
    "learning_rate=0.0001"
   ]
  },
  {
   "cell_type": "code",
   "execution_count": 4,
   "id": "2e4c760e-32c3-4a64-b2c2-47108b639cbf",
   "metadata": {},
   "outputs": [
    {
     "data": {
      "text/html": [
       "<div>\n",
       "<style scoped>\n",
       "    .dataframe tbody tr th:only-of-type {\n",
       "        vertical-align: middle;\n",
       "    }\n",
       "\n",
       "    .dataframe tbody tr th {\n",
       "        vertical-align: top;\n",
       "    }\n",
       "\n",
       "    .dataframe thead th {\n",
       "        text-align: right;\n",
       "    }\n",
       "</style>\n",
       "<table border=\"1\" class=\"dataframe\">\n",
       "  <thead>\n",
       "    <tr style=\"text-align: right;\">\n",
       "      <th></th>\n",
       "      <th>co</th>\n",
       "    </tr>\n",
       "    <tr>\n",
       "      <th>datetime</th>\n",
       "      <th></th>\n",
       "    </tr>\n",
       "  </thead>\n",
       "  <tbody>\n",
       "    <tr>\n",
       "      <th>2024-07-02 15:00:00</th>\n",
       "      <td>19.543611</td>\n",
       "    </tr>\n",
       "    <tr>\n",
       "      <th>2024-07-02 16:00:00</th>\n",
       "      <td>8.535421</td>\n",
       "    </tr>\n",
       "    <tr>\n",
       "      <th>2024-07-02 17:00:00</th>\n",
       "      <td>7.682224</td>\n",
       "    </tr>\n",
       "    <tr>\n",
       "      <th>2024-07-02 18:00:00</th>\n",
       "      <td>7.767747</td>\n",
       "    </tr>\n",
       "    <tr>\n",
       "      <th>2024-07-02 19:00:00</th>\n",
       "      <td>8.094099</td>\n",
       "    </tr>\n",
       "  </tbody>\n",
       "</table>\n",
       "</div>"
      ],
      "text/plain": [
       "                            co\n",
       "datetime                      \n",
       "2024-07-02 15:00:00  19.543611\n",
       "2024-07-02 16:00:00   8.535421\n",
       "2024-07-02 17:00:00   7.682224\n",
       "2024-07-02 18:00:00   7.767747\n",
       "2024-07-02 19:00:00   8.094099"
      ]
     },
     "execution_count": 4,
     "metadata": {},
     "output_type": "execute_result"
    }
   ],
   "source": [
    "target = ['pm1', 'pm25', 'pm10', 'co']\n",
    "\n",
    "target_col = 'co'\n",
    "sensor_data = 'sensor_data_3'\n",
    "\n",
    "data_path_pkl = '../' + config['train_test_data']['directory'] + config['train_test_data']['file_name_pkl']  \n",
    "\n",
    "df = util.load_data_pickle(data_path_pkl)\n",
    "df = df[sensor_data][[target_col]]\n",
    "\n",
    "df.head()"
   ]
  },
  {
   "cell_type": "code",
   "execution_count": 5,
   "id": "de4c1eec-6df8-48fc-bb50-7be46ed1f7a7",
   "metadata": {},
   "outputs": [
    {
     "name": "stdout",
     "output_type": "stream",
     "text": [
      "<class 'pandas.core.frame.DataFrame'>\n",
      "DatetimeIndex: 254 entries, 2024-07-02 15:00:00 to 2024-07-13 04:00:00\n",
      "Freq: h\n",
      "Data columns (total 1 columns):\n",
      " #   Column  Non-Null Count  Dtype  \n",
      "---  ------  --------------  -----  \n",
      " 0   co      254 non-null    float64\n",
      "dtypes: float64(1)\n",
      "memory usage: 4.0 KB\n"
     ]
    }
   ],
   "source": [
    "df.info()"
   ]
  },
  {
   "cell_type": "markdown",
   "id": "3aca8dee-8db8-454e-8734-c119dc861225",
   "metadata": {},
   "source": [
    "## Preprocessing"
   ]
  },
  {
   "cell_type": "markdown",
   "id": "50c2a4ee-4d94-4cc3-a74d-af6a4520b09c",
   "metadata": {},
   "source": [
    "### Splitting Data"
   ]
  },
  {
   "cell_type": "code",
   "execution_count": 6,
   "id": "02e7a3ab-bd1f-4009-bc31-386a3e62700e",
   "metadata": {},
   "outputs": [],
   "source": [
    "train_size = int(len(df) * 0.70)\n",
    "test_size = len(df) - train_size\n",
    "train_data, test_data = df[:train_size], df[train_size:]"
   ]
  },
  {
   "cell_type": "code",
   "execution_count": 7,
   "id": "9a823397-df6d-43a8-a5cd-554642417f1c",
   "metadata": {},
   "outputs": [],
   "source": [
    "dataset_train = train_data[target_col].values\n",
    "dataset_train = np.reshape(dataset_train, (-1,1))\n",
    "\n",
    "dataset_test = test_data[target_col].values\n",
    "dataset_test = np.reshape(dataset_test, (-1,1))"
   ]
  },
  {
   "cell_type": "markdown",
   "id": "38d283bc-7bd0-4dfe-a192-9efaf6b6c296",
   "metadata": {},
   "source": [
    "### Normalization"
   ]
  },
  {
   "cell_type": "code",
   "execution_count": 8,
   "id": "0b6d576c-78c2-4be8-8078-f80ed77b4154",
   "metadata": {},
   "outputs": [],
   "source": [
    "scaler = StandardScaler()\n",
    "\n",
    "scaled_train = scaler.fit_transform(dataset_train)\n",
    "scaled_test = scaler.fit_transform(dataset_test)"
   ]
  },
  {
   "cell_type": "markdown",
   "id": "ae51dc39-3ddf-4880-8ef4-2b9d01f03509",
   "metadata": {},
   "source": [
    "### Create Time Series Dataset"
   ]
  },
  {
   "cell_type": "code",
   "execution_count": 9,
   "id": "4088444a-a17f-4540-8f85-5f9b90f70870",
   "metadata": {},
   "outputs": [],
   "source": [
    "time_step_train = 20\n",
    "time_step_test = 15\n",
    "\n",
    "def create_dataset(dataset, time_step=1):\n",
    "    X, Y = [], []\n",
    "    for i in range(len(dataset) - time_step):\n",
    "        X.append(dataset[i:i+time_step])\n",
    "        Y.append(dataset[i+1:i+time_step+1])\n",
    "    return np.array(X), np.array(Y)\n",
    "\n",
    "X_train, y_train = create_dataset(scaled_train, time_step_train)\n",
    "X_test, y_test = create_dataset(scaled_test, time_step_test)"
   ]
  },
  {
   "cell_type": "code",
   "execution_count": 10,
   "id": "d0ac0972-0c0b-429e-bd7f-6e9aefafeb0f",
   "metadata": {},
   "outputs": [
    {
     "data": {
      "text/plain": [
       "((157, 20, 1), (157, 20, 1))"
      ]
     },
     "execution_count": 10,
     "metadata": {},
     "output_type": "execute_result"
    }
   ],
   "source": [
    "X_train.shape, y_train.shape"
   ]
  },
  {
   "cell_type": "code",
   "execution_count": 11,
   "id": "c9b19591-27ce-4d17-85c2-8a0b4373e7f9",
   "metadata": {},
   "outputs": [
    {
     "data": {
      "text/plain": [
       "((62, 15, 1), (62, 15, 1))"
      ]
     },
     "execution_count": 11,
     "metadata": {},
     "output_type": "execute_result"
    }
   ],
   "source": [
    "X_test.shape, y_test.shape"
   ]
  },
  {
   "cell_type": "markdown",
   "id": "0f70cb8b-ce87-47a9-9e57-e0cdd5231b19",
   "metadata": {},
   "source": [
    "### Convert to Tensor"
   ]
  },
  {
   "cell_type": "code",
   "execution_count": 12,
   "id": "2cd38a3e-1b91-4b3e-b3be-02e8cbb8bb89",
   "metadata": {},
   "outputs": [],
   "source": [
    "X_train = torch.tensor(X_train).float().to(device)\n",
    "y_train = torch.tensor(y_train).float().to(device)\n",
    "X_test = torch.tensor(X_test).float().to(device)\n",
    "y_test = torch.tensor(y_test).float().to(device)"
   ]
  },
  {
   "cell_type": "code",
   "execution_count": 13,
   "id": "3fb9bd3e-694d-405f-965e-2e0ecf262110",
   "metadata": {},
   "outputs": [],
   "source": [
    "# batch_size = 4\n",
    "train_dataset = torch.utils.data.TensorDataset(X_train, y_train)\n",
    "train_loader = torch.utils.data.DataLoader(train_dataset, batch_size=batch_size, shuffle=True)\n",
    " \n",
    "test_dataset = torch.utils.data.TensorDataset(X_test, y_test)\n",
    "test_loader = torch.utils.data.DataLoader(test_dataset, batch_size=batch_size, shuffle=False)"
   ]
  },
  {
   "cell_type": "markdown",
   "id": "81b6f688-aed9-4f5f-a6df-ba21cc90b7b7",
   "metadata": {},
   "source": [
    "## Modeling"
   ]
  },
  {
   "cell_type": "code",
   "execution_count": 14,
   "id": "392c13bb-5e49-4d86-b2ec-c15a63485d63",
   "metadata": {},
   "outputs": [],
   "source": [
    "class LSTMModel(nn.Module):\n",
    "\n",
    "    def __init__(self, input_size, hidden_size, num_layers): \n",
    "        super(LSTMModel, self).__init__()\n",
    "        self.lstm = nn.LSTM(input_size, hidden_size, num_layers, batch_first=True)\n",
    "        self.linear = nn.Linear(hidden_size, 1)\n",
    " \n",
    "    def forward(self, x): \n",
    "        out, _ = self.lstm(x)\n",
    "        out = self.linear(out)\n",
    "        return out"
   ]
  },
  {
   "cell_type": "code",
   "execution_count": 15,
   "id": "c38bbb1a-6138-4865-b7cb-2130ea2a2724",
   "metadata": {},
   "outputs": [],
   "source": [
    "input_size = 1\n",
    "num_layers = 2\n",
    "hidden_size = 64\n",
    "output_size = 1\n",
    "\n",
    "def rmse_loss(output, target):\n",
    "    mse = nn.MSELoss(reduction='mean')\n",
    "    return torch.sqrt(mse(output, target))\n",
    "\n",
    "model = LSTMModel(input_size, hidden_size, num_layers).to(device)\n",
    "# loss_fn = torch.nn.MSELoss(reduction='mean')\n",
    "loss_fn = rmse_loss\n",
    "optimizer = torch.optim.Adam(model.parameters(), lr=learning_rate)"
   ]
  },
  {
   "cell_type": "code",
   "execution_count": 16,
   "id": "d8942b9f-f8f8-40e7-8553-47ed5c487489",
   "metadata": {},
   "outputs": [
    {
     "name": "stdout",
     "output_type": "stream",
     "text": [
      "Epoch [5/30] - Training Loss: 0.5291, Test Loss: 0.8430\n",
      "Epoch [10/30] - Training Loss: 0.4160, Test Loss: 0.8330\n",
      "Epoch [15/30] - Training Loss: 0.3836, Test Loss: 0.8164\n",
      "Epoch [20/30] - Training Loss: 0.3582, Test Loss: 0.7839\n",
      "Epoch [25/30] - Training Loss: 0.3344, Test Loss: 0.7290\n",
      "Epoch [30/30] - Training Loss: 0.2908, Test Loss: 0.6303\n"
     ]
    }
   ],
   "source": [
    "train_hist =[]\n",
    "test_hist =[]\n",
    "\n",
    "for epoch in range(num_epochs):\n",
    "    total_loss = 0.0\n",
    "    \n",
    "    model.train()\n",
    "    for batch_X, batch_y in train_loader:\n",
    "        batch_X, batch_y = batch_X.to(device), batch_y.to(device)\n",
    "        \n",
    "        predictions = model(batch_X)\n",
    "        loss = loss_fn(predictions, batch_y)\n",
    " \n",
    "        optimizer.zero_grad()\n",
    "        loss.backward()\n",
    "        optimizer.step()\n",
    " \n",
    "        total_loss += loss.item()\n",
    "    \n",
    "    average_loss = total_loss / len(train_loader)\n",
    "    train_hist.append(average_loss)\n",
    " \n",
    "    model.eval()\n",
    "    with torch.no_grad():\n",
    "        total_test_loss = 0.0\n",
    " \n",
    "        for batch_X_test, batch_y_test in test_loader:\n",
    "            batch_X_test, batch_y_test = batch_X_test.to(device), batch_y_test.to(device)\n",
    "            predictions_test = model(batch_X_test)\n",
    "            test_loss = loss_fn(predictions_test, batch_y_test)\n",
    " \n",
    "            total_test_loss += test_loss.item()\n",
    "    \n",
    "        average_test_loss = total_test_loss / len(test_loader)\n",
    "        test_hist.append(average_test_loss)\n",
    "        \n",
    "    if (epoch+1)%5==0:\n",
    "        print(f'Epoch [{epoch+1}/{num_epochs}] - Training Loss: {average_loss:.4f}, Test Loss: {average_test_loss:.4f}')"
   ]
  },
  {
   "cell_type": "code",
   "execution_count": 17,
   "id": "bfcbe63c-83a6-44b3-8494-5caa1efca417",
   "metadata": {},
   "outputs": [
    {
     "data": {
      "image/png": "[encoded data removed]",
      "text/plain": [
       "<Figure size 640x480 with 1 Axes>"
      ]
     },
     "metadata": {},
     "output_type": "display_data"
    }
   ],
   "source": [
    "x = np.linspace(1, num_epochs, num_epochs)\n",
    "plt.plot(x, train_hist, scalex=True, label=\"Training loss\")\n",
    "plt.plot(x, test_hist, label=\"Test loss\")\n",
    "plt.legend()\n",
    "plt.show()"
   ]
  },
  {
   "cell_type": "markdown",
   "id": "91d2c6f9-649f-47b0-8451-0ea47a0c7400",
   "metadata": {},
   "source": [
    "## Prediction"
   ]
  },
  {
   "cell_type": "code",
   "execution_count": 18,
   "id": "3bd8db3c-d8b4-4f45-86cf-18a4f2672b97",
   "metadata": {},
   "outputs": [],
   "source": [
    "data = df[target_col].values\n",
    "data = np.reshape(data, (-1,1))\n",
    "data = scaler.transform(data)\n",
    "new_df = df.reset_index()\n",
    "dates = new_df['datetime'].values\n",
    "\n",
    "# prediksi 24 jam = 1 hari\n",
    "seq_length = 24\n",
    "sequences = []\n",
    "for i in range(len(data) - seq_length):\n",
    "    sequences.append(data[i:i+seq_length])\n",
    "sequences = np.array(sequences)\n",
    "sequences = torch.tensor(sequences).float().to(device)\n",
    "\n",
    "model.eval()\n",
    "with torch.no_grad():\n",
    "    prediction = model(sequences).cpu().numpy()\n",
    "prediction = scaler.inverse_transform(np.squeeze(prediction))\n",
    "prediction = prediction[0]"
   ]
  },
  {
   "cell_type": "code",
   "execution_count": 19,
   "id": "c6a23493-3069-4e1f-9911-4e4e327cd153",
   "metadata": {},
   "outputs": [
    {
     "data": {
      "text/plain": [
       "array([10.037279 ,  9.758861 ,  8.966154 ,  8.328505 ,  8.079195 ,\n",
       "        8.094455 ,  8.166944 ,  8.194129 ,  8.173763 ,  8.156602 ,\n",
       "        8.159483 ,  8.191316 ,  8.210253 ,  8.239101 ,  8.267105 ,\n",
       "        8.272771 ,  8.351409 ,  8.246666 ,  8.070118 ,  7.950744 ,\n",
       "        7.8986115,  7.873171 ,  7.8732405,  7.878158 ], dtype=float32)"
      ]
     },
     "execution_count": 19,
     "metadata": {},
     "output_type": "execute_result"
    }
   ],
   "source": [
    "prediction"
   ]
  },
  {
   "cell_type": "markdown",
   "id": "2914521d-1afb-403b-8801-835365f169b2",
   "metadata": {},
   "source": [
    "### Plotting Prediction Result"
   ]
  },
  {
   "cell_type": "code",
   "execution_count": 20,
   "id": "f3807fab-df28-4cae-9913-087d1b4563ed",
   "metadata": {},
   "outputs": [
    {
     "data": {
      "image/png": "[encoded data removed]",
      "text/plain": [
       "<Figure size 1000x500 with 1 Axes>"
      ]
     },
     "metadata": {},
     "output_type": "display_data"
    }
   ],
   "source": [
    "plt.figure(figsize=(10, 5))\n",
    "plt.plot(dates, df[target_col].values, label='Actual Data')\n",
    "plt.plot(dates[len(dates) - len(prediction):], prediction, label='Predicted Data')\n",
    "plt.title(f'Predictions')\n",
    "plt.xlabel('Date')\n",
    "plt.ylabel(target_col)\n",
    "plt.legend()\n",
    "plt.xticks(rotation=45)\n",
    "plt.show()"
   ]
  },
  {
   "cell_type": "markdown",
   "id": "b9de9486-462f-4d65-a771-b16ef5642516",
   "metadata": {},
   "source": [
    "### Root Mean Squared Error (RMSE)"
   ]
  },
  {
   "cell_type": "code",
   "execution_count": 21,
   "id": "85c49fa7-3614-4c8f-b8d5-4187b10f5cfd",
   "metadata": {},
   "outputs": [],
   "source": [
    "def rmse_calculate(y_true, y_pred):\n",
    "    mse = np.mean((y_true - y_pred) ** 2)\n",
    "    rmse = np.sqrt(mse)\n",
    "    return rmse"
   ]
  },
  {
   "cell_type": "code",
   "execution_count": 22,
   "id": "152ca607-897b-4a3b-986d-731b1fbdffeb",
   "metadata": {},
   "outputs": [
    {
     "name": "stdout",
     "output_type": "stream",
     "text": [
      "Root Mean Squared Error (RMSE): 1.9818457778192313\n"
     ]
    }
   ],
   "source": [
    "rmse = rmse_calculate(df[target_col][:24].values, prediction)\n",
    "print(f\"Root Mean Squared Error (RMSE): {rmse}\")"
   ]
  },
  {
   "cell_type": "markdown",
   "id": "2fb8b479-8832-47a2-8f5e-9bbe990e7a13",
   "metadata": {},
   "source": [
    "### Save Model"
   ]
  },
  {
   "cell_type": "code",
   "execution_count": 23,
   "id": "17394275-2aca-43e3-ab74-6247bbd18987",
   "metadata": {},
   "outputs": [],
   "source": [
    "torch.save(model.state_dict(), f'../models/{sensor_data}_{target_col}_lstm_model.pth')"
   ]
  }
 ],
 "metadata": {
  "kernelspec": {
   "display_name": "time-series",
   "language": "python",
   "name": "time-series"
  },
  "language_info": {
   "codemirror_mode": {
    "name": "ipython",
    "version": 3
   },
   "file_extension": ".py",
   "mimetype": "text/x-python",
   "name": "python",
   "nbconvert_exporter": "python",
   "pygments_lexer": "ipython3",
   "version": "3.12.3"
  }
 },
 "nbformat": 4,
 "nbformat_minor": 5
}
