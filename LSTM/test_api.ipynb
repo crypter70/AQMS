{
 "cells": [
  {
   "cell_type": "code",
   "execution_count": 2,
   "id": "b8067514-9b88-4416-875d-b8313a4283d3",
   "metadata": {},
   "outputs": [],
   "source": [
    "import requests\n",
    "import json"
   ]
  },
  {
   "cell_type": "markdown",
   "id": "62eca0ac-ce8f-4852-9387-75ba8f74f473",
   "metadata": {},
   "source": [
    "### Test Local Docker API"
   ]
  },
  {
   "cell_type": "code",
   "execution_count": 7,
   "id": "312287b4-1720-4b5f-b34a-f49a10cc1300",
   "metadata": {},
   "outputs": [],
   "source": [
    "requests.get(\"http://0.0.0.0:80/\").text"
   ]
  },
  {
   "cell_type": "code",
   "execution_count": null,
   "id": "9c96690e-9643-42f4-8e1b-500f4e60d446",
   "metadata": {},
   "outputs": [],
   "source": [
    "url = \"http://0.0.0.0:80/predict\""
   ]
  },
  {
   "cell_type": "code",
   "execution_count": null,
   "id": "5263c6cf-9e7d-4584-aa35-3bc6ef0f2097",
   "metadata": {},
   "outputs": [],
   "source": [
    "%time response = requests.get(url)"
   ]
  },
  {
   "cell_type": "code",
   "execution_count": null,
   "id": "a74c239e-cdd9-40bd-98f9-b1626a104e9e",
   "metadata": {},
   "outputs": [],
   "source": [
    "data = {\n",
    "    \"data\": [\n",
    "        1, 10, 20, 30, 400, 100, 100, 10001, 1000\n",
    "    ]\n",
    "}\n",
    "\n",
    "response = requests.post(url, json=data)\n",
    "\n",
    "if response.status_code == 200:\n",
    "    print(response.json())\n",
    "else:\n",
    "    print(f\"Error: {response.status_code}, {response.text}\")"
   ]
  },
  {
   "cell_type": "markdown",
   "id": "ab634e27-d95e-449a-9f99-5c2508932487",
   "metadata": {},
   "source": [
    "### Test AWS Docker API"
   ]
  },
  {
   "cell_type": "code",
   "execution_count": 9,
   "id": "da4c7abc-e19d-4d4b-9b40-fc3ea64fd1f6",
   "metadata": {},
   "outputs": [
    {
     "data": {
      "text/plain": [
       "'{\"ml_api_check\":\"OK\"}'"
      ]
     },
     "execution_count": 9,
     "metadata": {},
     "output_type": "execute_result"
    }
   ],
   "source": [
    "requests.get(\"http://3.239.78.232/\").text"
   ]
  },
  {
   "cell_type": "code",
   "execution_count": 10,
   "id": "fe7d2c32-1c40-473e-abd8-541735b43a5a",
   "metadata": {},
   "outputs": [],
   "source": [
    "url = \"http://3.239.78.232/predict\""
   ]
  },
  {
   "cell_type": "code",
   "execution_count": 11,
   "id": "f650cd9a-eb90-45ea-89d6-edfa4d79449c",
   "metadata": {},
   "outputs": [
    {
     "name": "stdout",
     "output_type": "stream",
     "text": [
      "CPU times: user 5.17 ms, sys: 5.84 ms, total: 11 ms\n",
      "Wall time: 523 ms\n"
     ]
    }
   ],
   "source": [
    "%time response = requests.get(url)"
   ]
  },
  {
   "cell_type": "code",
   "execution_count": 12,
   "id": "a8803bb0-b92f-49af-8061-a98651c6962e",
   "metadata": {},
   "outputs": [
    {
     "name": "stdout",
     "output_type": "stream",
     "text": [
      "{'predicted_value': 211.43255615234375}\n"
     ]
    }
   ],
   "source": [
    "data = {\n",
    "    \"data\": [\n",
    "        1, 10, 20, 30, 400, 100, 100, 10001, 1000\n",
    "    ]\n",
    "}\n",
    "\n",
    "response = requests.post(url, json=data)\n",
    "\n",
    "if response.status_code == 200:\n",
    "    print(response.json())\n",
    "else:\n",
    "    print(f\"Error: {response.status_code}, {response.text}\")"
   ]
  },
  {
   "cell_type": "code",
   "execution_count": null,
   "id": "c808ef0d-246c-489d-9902-280ca94b571a",
   "metadata": {},
   "outputs": [],
   "source": []
  },
  {
   "cell_type": "code",
   "execution_count": null,
   "id": "47bf1dad-866f-4fd2-b395-0bcc691b10ea",
   "metadata": {},
   "outputs": [],
   "source": []
  }
 ],
 "metadata": {
  "kernelspec": {
   "display_name": "time-series",
   "language": "python",
   "name": "time-series"
  },
  "language_info": {
   "codemirror_mode": {
    "name": "ipython",
    "version": 3
   },
   "file_extension": ".py",
   "mimetype": "text/x-python",
   "name": "python",
   "nbconvert_exporter": "python",
   "pygments_lexer": "ipython3",
   "version": "3.12.3"
  }
 },
 "nbformat": 4,
 "nbformat_minor": 5
}
